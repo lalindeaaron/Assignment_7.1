{
 "cells": [
  {
   "cell_type": "markdown",
   "metadata": {},
   "source": [
    "## Function Using Numpy:"
   ]
  },
  {
   "cell_type": "code",
   "execution_count": 1,
   "metadata": {},
   "outputs": [],
   "source": [
    "import numpy as np"
   ]
  },
  {
   "cell_type": "markdown",
   "metadata": {},
   "source": [
    "Running mean: you \"slide\" a window (in this case length of 3) along the input array and compute the mean of the window's contents."
   ]
  },
  {
   "cell_type": "code",
   "execution_count": 5,
   "metadata": {},
   "outputs": [],
   "source": [
    "N = 3 # is the length of the window \n",
    "x = np.array([3, 5, 7, 2, 8, 10, 11, 65, 72, 81, 99, 100, 150]) #the input array"
   ]
  },
  {
   "cell_type": "markdown",
   "metadata": {},
   "source": [
    "The convolution function takes two arrays and creates an arbitrary linear combination of them by multiplying each element and adding the results. In this case having our 1-Dimensional array and creating an array of [1/N,1/N,...] using the np.ones((N,))/N will allow us to find the running mean when they are both convoluted. "
   ]
  },
  {
   "cell_type": "code",
   "execution_count": 9,
   "metadata": {},
   "outputs": [
    {
     "data": {
      "text/plain": [
       "array([  5.        ,   4.66666667,   5.66666667,   6.66666667,\n",
       "         9.66666667,  28.66666667,  49.33333333,  72.66666667,\n",
       "        84.        ,  93.33333333, 116.33333333])"
      ]
     },
     "execution_count": 9,
     "metadata": {},
     "output_type": "execute_result"
    }
   ],
   "source": [
    "np.convolve(x, np.ones((N,))/N, mode = 'valid')"
   ]
  },
  {
   "cell_type": "markdown",
   "metadata": {},
   "source": [
    "## Function Using a For Loop:"
   ]
  },
  {
   "cell_type": "markdown",
   "metadata": {},
   "source": [
    "We can also find the running mean by creating a for loop"
   ]
  },
  {
   "cell_type": "code",
   "execution_count": 25,
   "metadata": {},
   "outputs": [],
   "source": [
    "def running_mean(A,n):\n",
    "    #A = input array\n",
    "    csum, running_avg = [0], [] \n",
    "\n",
    "    for i, x in enumerate(A,1):\n",
    "        csum.append(csum[i-1] + x)\n",
    "        if i >= n:\n",
    "            moving_avg = (csum[i] - csum[i-n])/n\n",
    "            running_avg.append(moving_avg)\n",
    "    print(running_avg)"
   ]
  },
  {
   "cell_type": "code",
   "execution_count": 26,
   "metadata": {},
   "outputs": [
    {
     "name": "stdout",
     "output_type": "stream",
     "text": [
      "[5.0, 4.666666666666667, 5.666666666666667, 6.666666666666667, 9.666666666666666, 28.666666666666668, 49.333333333333336, 72.66666666666667, 84.0, 93.33333333333333, 116.33333333333333]\n"
     ]
    }
   ],
   "source": [
    "running_mean([3, 5, 7, 2, 8, 10, 11, 65, 72, 81, 99, 100, 150],3)"
   ]
  }
 ],
 "metadata": {
  "kernelspec": {
   "display_name": "Python 3",
   "language": "python",
   "name": "python3"
  },
  "language_info": {
   "codemirror_mode": {
    "name": "ipython",
    "version": 3
   },
   "file_extension": ".py",
   "mimetype": "text/x-python",
   "name": "python",
   "nbconvert_exporter": "python",
   "pygments_lexer": "ipython3",
   "version": "3.6.4"
  }
 },
 "nbformat": 4,
 "nbformat_minor": 2
}
